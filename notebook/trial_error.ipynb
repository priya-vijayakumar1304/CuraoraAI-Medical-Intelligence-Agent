{
 "cells": [
  {
   "cell_type": "code",
   "execution_count": null,
   "id": "d9ac9e39",
   "metadata": {},
   "outputs": [],
   "source": [
    "#version3 - also same result as version 1 \n",
    "from langchain.chains import RetrievalQA\n",
    "from langchain.prompts import PromptTemplate\n",
    "\n",
    "#custom prompt\n",
    "custom_prompt_template = \"\"\"UYou are a medical intelligence assistant. Answer the following question, based on the context provided.\n",
    "If you don't know the answer, just say that you don't know, don't try to make up an answer.\n",
    "\n",
    "Context: {context}\n",
    "Question: {question}\n",
    "\"\"\"\n",
    "\n",
    "CUSTOM_PROMPT = PromptTemplate(\n",
    "    template=custom_prompt_template,\n",
    "    input_variables=[\"context\", \"question\"]\n",
    ")\n",
    "\n",
    "#create rag chain\n",
    "rag_chain = RetrievalQA.from_chain_type(\n",
    "    llm=llm,\n",
    "    chain_type=\"stuff\",\n",
    "    retriever=retriever,\n",
    "    chain_type_kwargs={\"prompt\": CUSTOM_PROMPT}\n",
    ")\n",
    "\n",
    "#generate response\n",
    "query = \"What is Tuberculosis?\"\n",
    "response = rag_chain.invoke({\"query\": query})\n",
    "print(response['result'])"
   ]
  },
  {
   "cell_type": "code",
   "execution_count": null,
   "id": "b81e5216",
   "metadata": {},
   "outputs": [],
   "source": [
    "#version 2\n",
    "from langchain.chains import RetrievalQA\n",
    "\n",
    "#create rag chain\n",
    "rag_chain = RetrievalQA.from_chain_type(\n",
    "    llm=llm,\n",
    "    chain_type=\"stuff\",\n",
    "    retriever=retriever\n",
    ")\n",
    "\n",
    "#generate response\n",
    "query = \"What is Tuberculosis?\"\n",
    "response2 = rag_chain.invoke({\"query\": query})\n",
    "print(response2['result'])"
   ]
  }
 ],
 "metadata": {
  "kernelspec": {
   "display_name": "venv",
   "language": "python",
   "name": "python3"
  },
  "language_info": {
   "name": "python",
   "version": "3.12.7"
  }
 },
 "nbformat": 4,
 "nbformat_minor": 5
}
