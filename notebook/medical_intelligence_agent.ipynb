{
 "cells": [
  {
   "cell_type": "markdown",
   "id": "0427d86b",
   "metadata": {},
   "source": [
    "# Medical Intelligence Agent\n",
    "This notebook covers a simple version and address the queries on Tuberculosis - symptoms, treatment, prevention and recent research and development in vaccines. The agent retrieves the data from the trusted sources such as WHO and PudMed"
   ]
  },
  {
   "cell_type": "markdown",
   "id": "f72b9157",
   "metadata": {},
   "source": [
    "## Loading Environment variables"
   ]
  },
  {
   "cell_type": "code",
   "execution_count": 40,
   "id": "4c6bfa11",
   "metadata": {},
   "outputs": [],
   "source": [
    "import os\n",
    "from dotenv import load_dotenv\n",
    "load_dotenv()\n",
    "\n",
    "os.environ[\"GROQ_API_KEY\"] = os.getenv(\"GROQ_API_KEY\")\n"
   ]
  },
  {
   "cell_type": "markdown",
   "id": "5b02e4db",
   "metadata": {},
   "source": [
    "## Part 1 - Document Loading"
   ]
  },
  {
   "cell_type": "code",
   "execution_count": 41,
   "id": "19b0ca0c",
   "metadata": {},
   "outputs": [],
   "source": [
    "from langchain_community.document_loaders import WebBaseLoader\n",
    "loader = WebBaseLoader(\"https://www.who.int/news-room/questions-and-answers/item/tuberculosis\")\n",
    "docs1 = loader.load()\n",
    "\n",
    "from langchain_community.document_loaders import PubMedLoader\n",
    "loader = PubMedLoader(\"Tuberculosis\", load_max_docs=3)\n",
    "docs2 = loader.load()\n",
    "\n",
    "# future work - check out pubmed tools, retriever, PubMedAPIWrapper"
   ]
  },
  {
   "cell_type": "code",
   "execution_count": 42,
   "id": "803cac24",
   "metadata": {},
   "outputs": [
    {
     "data": {
      "text/plain": [
       "[Document(metadata={'source': 'https://www.who.int/news-room/questions-and-answers/item/tuberculosis', 'title': '\\r\\n\\tTuberculosis\\r\\n', 'language': 'en'}, page_content=\"      \\r\\n\\tTuberculosis\\r\\n                     \\n   Skip to main content       \\n\\n\\n \\n\\n\\n\\n\\n\\n\\n\\nGlobal\\n\\n\\nRegions\\n\\n\\n\\n\\n\\n\\n\\nWHO Regional websites\\n\\n\\n\\n\\n\\n\\n\\nAfrica\\n\\n\\n\\n\\n\\nAmericas\\n\\n\\n\\n\\n\\nSouth-East Asia\\n\\n\\n\\n\\n\\nEurope\\n\\n\\n\\n\\n\\nEastern Mediterranean\\n\\n\\n\\n\\n\\nWestern Pacific\\n\\n\\n\\n\\n\\n\\n\\n\\n\\n   \\n\\n\\n\\n\\n\\n\\n\\n\\n\\n\\n\\n\\n\\nWhen autocomplete results are available use up and down arrows to review and enter to select.\\n\\n\\n\\n\\n\\n\\n\\n\\n\\n\\n\\n\\n\\n\\n\\n\\r\\n        Select language\\r\\n    \\n\\nSelect language\\nEnglish\\nالعربية\\n中文\\nFrançais\\nРусский\\nEspañol\\nPortuguês\\n\\n\\n\\n\\n        \\n            \\n\\n\\n\\n\\n\\n\\n\\n\\n\\n\\n       \\n\\n\\n\\n\\n\\n\\n\\n\\n\\n\\n\\nHome\\n\\n\\n\\n\\n\\n\\n\\n\\n\\n\\n\\n\\n\\nHealth Topics\\n\\n\\n\\n\\n\\n\\n\\n\\nAll topicsABCDEFGHIJKLMNOPQRSTUVWXYZ\\n\\n\\n\\n\\n\\n\\n\\nResources\\n\\n\\nFact sheets\\n\\n\\nFacts in pictures\\n\\n\\nMultimedia\\n\\n\\nPodcasts\\n\\n\\nPublications\\n\\n\\nQuestions and answers\\n\\n\\nTools and toolkits\\n\\n\\n\\n\\n\\n\\n\\n\\n\\n\\nPopular\\n\\n\\nDengue\\n\\n\\nEndometriosis\\n\\n\\nExcessive heat\\n\\n\\nHerpes\\n\\n\\nMental disorders\\n\\n\\nMpox\\n\\n\\n\\n\\n\\n\\n\\n\\n\\n\\n\\n\\n\\n\\n\\n\\n\\nCountries\\n\\n\\n\\n\\n\\n\\n\\n\\nAll countriesABCDEFGHIJKLMNOPQRSTUVWXYZ\\n\\n\\n\\n\\n\\n\\n\\nRegions\\n\\n\\nAfrica\\n\\n\\nAmericas\\n\\n\\nEurope\\n\\n\\nEastern Mediterranean\\n\\n\\nSouth-East Asia\\r\\n\\n\\n\\nWestern Pacific\\n\\n\\n\\n\\n\\n\\n\\n\\n\\n\\nWHO in countries\\n\\n\\nData by country\\n\\n\\nCountry presence\\xa0\\n\\n\\nCountry cooperation strategies\\xa0\\n\\n\\nCountry office profiles\\n\\n\\nStrengthening country offices\\xa0\\n\\n\\n\\n\\n\\n\\n\\n\\n\\n\\n\\n\\n\\n\\n\\n\\n\\nNewsroom\\n\\n\\n\\n\\n\\n\\n\\n\\n\\n\\nAll news\\n\\n\\nNews releases\\n\\n\\nStatements\\n\\n\\nCampaigns\\n\\n\\nEvents\\n\\n\\nFeature stories\\n\\n\\nPress conferences\\n\\n\\nSpeeches\\n\\n\\nCommentaries\\n\\n\\nPhoto library\\n\\n\\n\\n\\n\\n\\n\\n\\nHeadlines\\n\\n\\n\\n\\n\\n\\n\\n\\n\\n\\n\\n\\n\\n\\n\\n\\nEmergencies\\n\\n\\n\\n\\n\\n\\n\\n\\n\\n\\nFocus on\\n\\n\\nCholera\\xa0\\n\\n\\nCoronavirus disease (COVID-19)\\n\\n\\nGreater Horn of Africa\\n\\n\\nIsrael and occupied Palestinian territory\\n\\n\\nMpox\\n\\n\\nSudan\\n\\n\\nUkraine\\n\\n\\n\\n\\n\\n\\n\\n\\n\\n\\nLatest\\n\\n\\nDisease Outbreak News\\n\\n\\nSituation reports\\n\\n\\nRapid risk assessments\\n\\n\\nWeekly Epidemiological Record\\n\\n\\n\\n\\n\\n\\n\\n\\n\\n\\nWHO in emergencies\\n\\n\\nSurveillance\\n\\n\\nAlert and response\\n\\n\\nOperations\\n\\n\\nResearch\\n\\n\\nFunding\\n\\n\\nPartners\\n\\n\\nHealth emergency appeals\\n\\n\\nInternational Health Regulations\\n\\n\\nIndependent Oversight and Advisory Committee\\n\\n\\n\\n\\n\\n\\n\\n\\n\\n\\n\\n\\n\\n\\n\\n\\n\\nData\\n\\n\\n\\n\\n\\n\\n\\n\\n\\n\\nData at WHO\\n\\n\\nData hub\\n\\n\\nGlobal Health Estimates\\n\\n\\nMortality\\n\\n\\nHealth inequality\\n\\n\\n\\n\\n\\n\\n\\n\\n\\n\\nDashboards\\n\\n\\nTriple Billion Progress\\n\\n\\nHealth Inequality Monitor\\n\\n\\nDelivery for impact\\n\\n\\nCOVID-19 dashboard\\n\\n\\n\\n\\n\\n\\n\\n\\n\\n\\nData collection\\n\\n\\nClassifications\\n\\n\\nSCORE\\n\\n\\nSurveys\\n\\n\\nCivil registration and vital statistics\\n\\n\\nRoutine health information systems\\n\\n\\nHarmonized health facility assessment\\n\\n\\nGIS centre for health\\n\\n\\n\\n\\n\\n\\n\\n\\n\\n\\nReports\\n\\n\\nWorld Health Statistics\\n\\n\\nUHC global monitoring report\\n\\n\\n\\n\\n\\n\\n\\n\\n\\n\\n\\n\\n\\n\\n\\nAbout WHO\\n\\n\\n\\n\\n\\n\\n\\n\\n\\n\\nAbout WHO\\n\\n\\nPartnerships\\n\\n\\nCommittees and advisory groups\\n\\n\\nCollaborating centres\\n\\n\\nTechnical teams\\n\\n\\nOrganizational structure\\n\\n\\nWho we are\\n\\n\\n\\n\\n\\n\\n\\n\\n\\n\\nOur work\\n\\n\\nActivities\\n\\n\\nInitiatives\\n\\n\\nGeneral Programme of Work\\n\\n\\nWHO Academy\\n\\n\\n\\n\\n\\n\\n\\n\\n\\n\\nFunding\\n\\n\\nInvestment in WHO\\n\\n\\nWHO Foundation\\n\\n\\n\\n\\n\\n\\n\\n\\nAccountability\\n\\n\\nExternal audit\\n\\n\\nFinancial statements\\n\\n\\nInternal audit and investigations\\xa0\\n\\n\\nProgramme Budget\\n\\n\\nResults reports\\n\\n\\n\\n\\n\\n\\n\\n\\n\\n\\nGovernance\\n\\n\\nGoverning bodies\\n\\n\\nWorld Health Assembly\\n\\n\\nExecutive Board\\n\\n\\nMember States Portal\\n\\n\\n\\n\\n\\n\\n\\n\\n\\n\\n\\n\\n\\n    \\n\\n\\n\\n\\nHome/\\nNewsroom/\\nQuestions and answers/\\nitem/\\nTuberculosis\\n\\n\\n\\n\\n\\n\\n\\n\\n\\n\\n\\n\\n\\n\\nTuberculosis\\n8 May 2025 | Questions and answers\\n\\n\\n\\n\\n\\n\\n\\n\\n\\n\\n\\n\\n\\n\\r\\n                                        What is TB?\\r\\n                                    \\n\\n\\n\\n\\n\\nTuberculosis (TB) is caused by bacteria (Mycobacterium tuberculosis) that most often affect the lungs. About one-quarter of the world's population has been infected with TB, most of whom are not ill and cannot transmit TB. \\n\\n\\n\\n\\n\\n\\n\\n\\n\\n\\r\\n                                        How many people die from TB disease?\\r\\n                                    \\n\\n\\n\\n\\n\\nTB is the world's leading cause of death from a single infectious agent. In 2023, 1.25 million people died from TB. This includes 161\\xa0000 individuals who were also living with HIV.\\n\\n\\n\\n\\n\\n\\n\\n\\n\\n\\r\\n                                        How does TB infection differ from TB disease?\\r\\n                                    \\n\\n\\n\\n\\n\\nMost people infected with TB bacteria do not have TB disease, but they can develop TB. The lifetime risk of falling ill with TB is on average about 5-10%. However, persons with compromised immune systems, such as people living with HIV, malnutrition or diabetes, or people who use tobacco, have a much higher risk of developing TB disease. When a person develops TB disease, they may only have mild symptoms, and some have no symptoms at all. This can lead to delays in seeking care and continued transmission of the bacteria to others. \\n\\n\\n\\n\\n\\n\\n\\n\\n\\n\\r\\n                                        What are the symptoms of TB disease?\\r\\n                                    \\n\\n\\n\\n\\n\\nTuberculosis (TB) often affects the lungs and can lead to several symptoms. Common signs of active TB include a persistent cough, sometimes with mucus or even blood. People might also experience chest pain, weakness or fatigue, unintentional weight loss, fever and night sweats. It's important to remember that these symptoms can be mild at first and develop slowly. If you experience these signs, seeking medical attention is crucial for diagnosis and treatment of TB.\\n\\n\\n\\n\\n\\n\\n\\n\\n\\n\\r\\n                                        How does TB spread?\\r\\n                                    \\n\\n\\n\\n\\n\\nTB is spread from person to person through the air. When people with lung TB cough, sneeze or spit, they propel the TB germs into the air. A person needs to inhale only a few of these germs to become infected. People with untreated TB can infect up to 10–15 other people through close contact over one year.\\xa0\\n\\n\\n\\n\\n\\n\\n\\n\\n\\n\\r\\n                                        How is TB treated?\\r\\n                                    \\n\\n\\n\\n\\n\\nTuberculosis is mostly curable but without proper treatment about two thirds of people who get TB will die. Since 2000, about 79 million lives have been saved through effective diagnosis and treatment. Most people who have TB disease can be cured with a course of 4 antimicrobials lasting 6 months, or even 4 months in some cases. Information, supervision and patient support by a health worker or trained volunteer are key to a successful outcome.\\n\\n\\n\\n\\n\\n\\n\\n\\n\\n\\r\\n                                        How is TB prevented?\\r\\n                                    \\n\\n\\n\\n\\n\\nTuberculosis is largely preventable. TB preventive treatment (TPT) can be given to avoid progression from TB infection to disease in people at risk. TB screening and action on poverty, malnutrition, HIV, diabetes and tobacco are some of the population measures that can reduce TB burden. The currently licensed vaccine – BCG – protects from severe forms of TB and from deaths from TB, especially in young children.\\n\\n\\n\\n\\n\\n\\n\\n\\n\\n\\n\\nWHO TEAM\\n\\n\\nGlobal Programme on Tuberculosis and Lung Health (GTB) \\n\\n\\n\\nRelated\\nWHO's work on tuberculosis\\nNews\\n\\n\\n\\n\\n\\n\\n\\n\\n\\nWHO issues call to action: prioritize pregnant and lactating women in TB research\\n22 August 2025\\n\\n\\n\\n\\n\\n\\n\\n\\n\\n\\n\\nWHO releases new Target Product Profiles for tuberculosis screening tests\\n13 August 2025\\n\\n\\n\\n\\nFact sheets\\n\\n\\n\\n\\n\\n\\n\\n\\n\\nTuberculosis\\n14 March 2025\\n\\n\\n\\n\\n\\n\\n\\n\\n\\n\\n\\n\\n\\n\\n\\n\\n\\n    \\n\\n\\n\\n\\n\\nRegions\\n\\n\\nAfrica\\n\\n\\nAmericas\\n\\n\\nEastern Mediterranean\\n\\n\\nEurope\\n\\n\\nSouth-East Asia\\n\\n\\nWestern Pacific\\n\\n\\n\\n\\nPolicies\\n\\n\\nCybersecurity\\n\\n\\nEthics\\n\\n\\nInformation disclosure\\n\\n\\nPermissions and licensing\\n\\n\\nPreventing sexual exploitation\\n\\n\\nTerms of use\\n\\n\\n\\n\\nAbout us\\n\\n\\nCareers\\n\\n\\nFrequently asked questions\\n\\n\\nLibrary\\n\\n\\nProcurement\\n\\n\\nPublications\\n\\n\\n\\n\\n\\n\\n\\n\\n\\nContact us\\n\\n\\n\\nNewsletters\\n\\n\\nReport misconduct\\n\\n\\n\\n\\n\\n\\n\\n\\n         \\n\\nPrivacy policy\\n\\n \\n\\n\\n\\n\\n\\n\\n\\n\\n\\n\\n\\n\\n\\n\\n\\n  \\r\\n                                ©\\r\\n                            \\r\\n\\r\\n                            2025\\r\\n\\r\\n                            \\r\\n\\r\\n\\r\\n\\r\\n\\nWHO\\n\\n                           \\n\")]"
      ]
     },
     "execution_count": 42,
     "metadata": {},
     "output_type": "execute_result"
    }
   ],
   "source": [
    "docs1"
   ]
  },
  {
   "cell_type": "code",
   "execution_count": 43,
   "id": "2265c3f3",
   "metadata": {},
   "outputs": [
    {
     "data": {
      "text/plain": [
       "[Document(metadata={'uid': '40985018', 'Title': 'Community-driven strategies and policies for drug-resistant tuberculosis control in Banyumas Regency, Indonesia: A comprehensive 2023 analysis.', 'Published': '2025-09-20', 'Copyright Information': '© The Author(s) 2025.'}, page_content='BACKGROUND: Central Java, Indonesia, struggles with low drug-resistant tuberculosis (DR-TB) case detection (33%) and treatment rates (25%), far below the 60% target. Despite policies, including Minister of Health Regulation No. 67/2016 and Presidential Regulation No. 67/2021, along with the National TB Strategy for Tuberculosis Control 2020-2024 have been implemented, targets remain unmet due to weak community involvement. This study analyzed TB policy implementation in high-prevalence Banyumas Regency, focusing on cadres and community organizations.\\nDESIGN AND METHODS: This qualitative study employed the Van Meter and Van Horn framework to assess policy implementation. Key stakeholders involved informants from Puskesmas (community health centers), TB cadres, TB program holders at the Regency Health Office, and the Mentari Sehat Indonesia Foundation. Data collection involved in-depth interviews with these informants, as well as policy documents, guidelines, and reports from agencies or institutions. Triangulation methods were used to enhance the validity of the findings.\\nRESULTS: Implementers understood policy standards, supported by consistent communication among Health Offices, community health workers, local organizations, and village leaders. Positive attitudes were reflected in joint commitments and Regional Action Plans. Cadres and communities actively supported case-finding, treatment, education, socioeconomic aid, and stigma reduction.\\nCONCLUSIONS: Policies lack sufficient local budget allocation. Weak motivation of TB cadres, lack of commitment among regional organizations, and persistent stigma in the community are evident. The Global Fund aids DR-TB control through grants and patient support to ensure treatment adherence. However, sustained impact requires government attention to policy, human resources, infrastructure, and complementary resources to achieve synergy.'),\n",
       " Document(metadata={'uid': '40984858', 'Title': 'Pulmonary mucormycosis and aspergillosis co-infection in an immunocompetent host: a rare case report with review of literature.', 'Published': '2025-07-31', 'Copyright Information': '© Indian Association of Cardiovascular-Thoracic Surgeons 2025. Springer Nature or its licensor (e.g. a society or other partner) holds exclusive rights to this article under a publishing agreement with the author(s) or other rightsholder(s); author self-archiving of the accepted manuscript version of this article is solely governed by the terms of such publishing agreement and applicable law.'}, page_content='Pulmonary aspergillosis and mucormycosis are rare opportunistic infections that usually occur in immunocompromised patients and in patients with multiple comorbidities. Mucormycosis is even rarer in immunocompetent patients. In this case report, we present a case of co-infection of mucormycosis and aspergillosis in a young female with no comorbidities and no immunosuppression. A 27-year-old female patient presents with a history of hemoptysis and intermittent fever for a year with associated history of weight loss. She also has a history of tuberculosis for which she completed treatment. There is no history of any known comorbidity or immunosuppression. High-resolution computed tomography (HRCT) was suggestive of air crescent sign involving the right upper lobe. The patient underwent right upper lobectomy through a right posterolateral approach. Histopathology was suggestive of a fungal ball (mucormycosis and aspergillosis). The patient was administered liposomal amphotericin B intravenously for 14 days and oral posaconazole 300 mg for 3 months. Postoperative follow-up period of 3 and 6 months was uneventful. Mucormycosis and aspergillosis are rare co-infections that could potentially lead to death. These infections usually occur in the immunocompromised population but a high index of suspicion is needed also in immunocompetent patients. Early detection by a multidisciplinary approach, appropriate antifungal therapy, and, if necessary, surgical resection are essential in the treatment of this co-infection. There is no clear consensus on the treatment of mixed co-infections that respond differently to standard treatment protocols; hence, antimicrobial therapy must be rationalized.'),\n",
       " Document(metadata={'uid': '40984836', 'Title': 'Quantitative C-reactive protein for differentiating tuberculous and malignant pleural effusion: A cross-sectional study.', 'Published': '2025-06-30', 'Copyright Information': '© Indian Association of Cardiovascular-Thoracic Surgeons 2025. Springer Nature or its licensor (e.g. a society or other partner) holds exclusive rights to this article under a publishing agreement with the author(s) or other rightsholder(s); author self-archiving of the accepted manuscript version of this article is solely governed by the terms of such publishing agreement and applicable law.'}, page_content='PURPOSE: Pulmonary or pleural tuberculosis and malignancy are the most common causes of lymphocyte-rich pleural effusion. In resource-limited settings, establishing a definitive diagnosis for patients with pleural effusion (PEs) may be challenging, emphasizing the need for a simple diagnostic test. This study aimed to investigate the diagnostic value of quantitative C-reactive protein (qCRP) for differentiating between tuberculous pleural effusion (TPE) and malignant pleural effusion (MPE).\\nMETHODS: A cross-sectional study was performed on 81 patients admitted for lymphocyte-rich exudative pleural effusion at a tertiary care center. Comprehensive biochemical analyses, including qCRP levels in the pleural fluid and pathological examinations of blood, pleural fluid, and/or tissue, were performed. The t-test was used for continuous variables, and the chi-square test was used for categorical variables. To assess the independent associations between variables, multivariate logistic regression analysis was performed. The diagnostic performance of pleural fluid qCRP levels was evaluated using a receiver operating characteristic (ROC) curve.\\nRESULTS: Forty-four (54.3%) patients were diagnosed with TPE and 34 (42.0%) with MPE. The qCRP levels in the pleural fluid were significantly greater in the TPE group than in the MPE group (55.5\\u2009±\\u200945.9\\xa0mg/L vs. 18.6\\u2009±\\u200919.1\\xa0mg/L, \\u2009<\\u20090.001). The cutoff value for pleural fluid CRP levels (≥\\u200924.1\\xa0mg/L) yielded a sensitivity of 65.9% and a specificity of 73.5% in predicting TPE.\\nCONCLUSIONS: Pleural fluid qCRP is a simple, rapid, cost-effective diagnostic tool for differentiating tuberculous from malignant etiology in patients with lymphocyte-rich exudative pleural effusion.\\nSUPPLEMENTARY INFORMATION: The online version contains supplementary material available at 10.1007/s12055-025-01978-9.')]"
      ]
     },
     "execution_count": 43,
     "metadata": {},
     "output_type": "execute_result"
    }
   ],
   "source": [
    "docs2"
   ]
  },
  {
   "cell_type": "code",
   "execution_count": 44,
   "id": "ba51e5a6",
   "metadata": {},
   "outputs": [
    {
     "name": "stdout",
     "output_type": "stream",
     "text": [
      "<class 'list'>\n",
      "1\n",
      "      \n",
      "\tTuberculosis\n",
      "                     \n",
      "   Skip to main content       \n",
      "\n",
      "\n",
      " \n",
      "\n",
      "\n",
      "\n",
      "\n",
      "\n",
      "\n",
      "\n",
      "Global\n",
      "\n",
      "\n",
      "Regions\n",
      "\n",
      "\n",
      "\n",
      "\n",
      "\n",
      "\n",
      "\n",
      "WHO Regional websites\n",
      "\n",
      "\n",
      "\n",
      "\n",
      "\n",
      "\n",
      "\n",
      "Africa\n",
      "\n",
      "\n",
      "\n",
      "\n",
      "\n",
      "Americas\n",
      "\n",
      "\n",
      "\n",
      "\n",
      "\n",
      "South-East Asia\n",
      "\n",
      "\n",
      "\n",
      "\n",
      "\n",
      "Europe\n",
      "\n",
      "\n",
      "\n",
      "\n",
      "\n",
      "Eastern Mediterranean\n",
      "\n",
      "\n",
      "\n",
      "\n",
      "\n",
      "Western Pacific\n",
      "\n",
      "\n",
      "\n",
      "\n",
      "\n",
      "\n",
      "\n",
      "\n",
      "\n",
      "   \n",
      "\n",
      "\n",
      "\n",
      "\n",
      "\n",
      "\n",
      "\n",
      "\n",
      "\n",
      "\n",
      "\n",
      "\n",
      "\n",
      "When autocomplete results are available use up and down arrows to review and enter to select.\n",
      "\n",
      "\n",
      "\n",
      "\n",
      "\n",
      "\n",
      "\n",
      "\n",
      "\n",
      "\n",
      "\n",
      "\n",
      "\n",
      "\n",
      "\n",
      "\n",
      "        Select language\n",
      "    \n",
      "\n",
      "Select language\n",
      "English\n",
      "العربية\n",
      "中文\n",
      "Français\n",
      "Русский\n",
      "Español\n",
      "Português\n",
      "\n",
      "\n",
      "\n",
      "\n",
      "        \n",
      "            \n",
      "\n",
      "\n",
      "\n",
      "\n",
      "\n",
      "\n",
      "\n",
      "\n",
      "\n",
      "\n",
      "       \n",
      "\n",
      "\n",
      "\n",
      "\n",
      "\n",
      "\n",
      "\n",
      "\n",
      "\n",
      "\n",
      "\n",
      "Home\n",
      "\n",
      "\n",
      "\n",
      "\n",
      "\n",
      "\n",
      "\n",
      "\n",
      "\n",
      "\n",
      "\n",
      "\n",
      "\n",
      "Health Topics\n",
      "\n",
      "\n",
      "\n",
      "\n",
      "\n",
      "\n",
      "\n",
      "\n",
      "All topicsABCDEFGHIJKLMNOPQRSTUVWXYZ\n",
      "\n",
      "\n",
      "\n",
      "\n",
      "\n",
      "\n",
      "\n",
      "Resources\n",
      "\n",
      "\n",
      "Fact sheets\n",
      "\n",
      "\n",
      "Facts in pictures\n",
      "\n",
      "\n",
      "Multimedia\n",
      "\n",
      "\n",
      "Podcasts\n",
      "\n",
      "\n",
      "Publications\n",
      "\n",
      "\n",
      "Questions and answers\n",
      "\n",
      "\n",
      "Tools and toolkits\n",
      "\n",
      "\n",
      "\n",
      "\n",
      "\n",
      "\n",
      "\n",
      "\n",
      "\n",
      "\n",
      "Popular\n",
      "\n",
      "\n",
      "Dengue\n",
      "\n",
      "\n",
      "Endometriosis\n",
      "\n",
      "\n",
      "Excessive heat\n",
      "\n",
      "\n",
      "Herpes\n",
      "\n",
      "\n",
      "Mental disorders\n",
      "\n",
      "\n",
      "Mpox\n",
      "\n",
      "\n",
      "\n",
      "\n",
      "\n",
      "\n",
      "\n",
      "\n",
      "\n",
      "\n",
      "\n",
      "\n",
      "\n",
      "\n",
      "\n",
      "\n",
      "\n",
      "Countries\n",
      "\n",
      "\n",
      "\n",
      "\n",
      "\n",
      "\n",
      "\n",
      "\n",
      "All countriesABCDEFGHIJKLMNOPQRSTUVWXYZ\n",
      "\n",
      "\n",
      "\n",
      "\n",
      "\n",
      "\n",
      "\n",
      "Regions\n",
      "\n",
      "\n",
      "Africa\n",
      "\n",
      "\n",
      "Americas\n",
      "\n",
      "\n",
      "Europe\n",
      "\n",
      "\n",
      "Eastern Mediterranean\n",
      "\n",
      "\n",
      "South-East As\n"
     ]
    }
   ],
   "source": [
    "print(type(docs1))  \n",
    "print(len(docs1))\n",
    "print(docs1[0].page_content[:1000])"
   ]
  },
  {
   "cell_type": "code",
   "execution_count": 46,
   "id": "95a83150",
   "metadata": {},
   "outputs": [
    {
     "name": "stdout",
     "output_type": "stream",
     "text": [
      "Tuberculosis\n",
      " \n",
      " Skip to main content \n",
      " \n",
      "Global\n",
      "Regions\n",
      "WHO Regional websites\n",
      "Africa\n",
      "Americas\n",
      "South-East Asia\n",
      "Europe\n",
      "Eastern Mediterranean\n",
      "Western Pacific\n",
      " \n",
      "When autocomplete results are available use up and down arrows to review and enter to select.\n",
      "\n",
      " Select language\n",
      " \n",
      "Select language\n",
      "English\n",
      "العربية\n",
      "中文\n",
      "Français\n",
      "Русский\n",
      "Español\n",
      "Português\n",
      " \n",
      " \n",
      " \n",
      "Home\n",
      "Health Topics\n",
      "All topicsABCDEFGHIJKLMNOPQRSTUVWXYZ\n",
      "Resources\n",
      "Fact sheets\n",
      "Facts in pictures\n",
      "Multimedia\n",
      "Podcasts\n",
      "Publications\n",
      "Questions and answers\n",
      "Tools and toolkits\n",
      "Popular\n",
      "Dengue\n",
      "Endometriosis\n",
      "Excessive heat\n",
      "Herpes\n",
      "Mental disorders\n",
      "Mpox\n",
      "Countries\n",
      "All countriesABCDEFGHIJKLMNOPQRSTUVWXYZ\n",
      "Regions\n",
      "Africa\n",
      "Americas\n",
      "Europe\n",
      "Eastern Mediterranean\n",
      "South-East Asia\n",
      "Western Pacific\n",
      "WHO in countries\n",
      "Data by country\n",
      "Country presence \n",
      "Country cooperation strategies \n",
      "Country office profiles\n",
      "Strengthening country offices \n",
      "Newsroom\n",
      "All news\n",
      "News releases\n",
      "Statements\n",
      "Campaigns\n",
      "Events\n",
      "Feature stories\n",
      "Press conferences\n",
      "Speeches\n",
      "Commentaries\n",
      "Photo library\n",
      "Head\n"
     ]
    }
   ],
   "source": [
    "import re\n",
    "\n",
    "raw_text = docs1[0].page_content\n",
    "\n",
    "# Collapse multiple newlines and strip leading/trailing whitespace\n",
    "clean_text = re.sub(r'\\n+', '\\n', raw_text).strip()\n",
    "\n",
    "# Optionally remove extra spaces too\n",
    "docs1[0].page_content = re.sub(r'[ \\t]+', ' ', clean_text)\n",
    "\n",
    "print(docs1[0].page_content[:1000])"
   ]
  },
  {
   "cell_type": "code",
   "execution_count": 38,
   "id": "d6ff4778",
   "metadata": {},
   "outputs": [
    {
     "name": "stdout",
     "output_type": "stream",
     "text": [
      "<class 'list'>\n",
      "3\n",
      "<class 'langchain_core.documents.base.Document'>\n",
      "PURPOSE: Pulmonary or pleural tuberculosis and malignancy are the most common causes of lymphocyte-rich pleural effusion. In resource-limited settings, establishing a definitive diagnosis for patients with pleural effusion (PEs) may be challenging, emphasizing the need for a simple diagnostic test. This study aimed to investigate the diagnostic value of quantitative C-reactive protein (qCRP) for differentiating between tuberculous pleural effusion (TPE) and malignant pleural effusion (MPE).\n",
      "METHODS: A cross-sectional study was performed on 81 patients admitted for lymphocyte-rich exudative pleural effusion at a tertiary care center. Comprehensive biochemical analyses, including qCRP levels in the pleural fluid and pathological examinations of blood, pleural fluid, and/or tissue, were performed. The t-test was used for continuous variables, and the chi-square test was used for categorical variables. To assess the independent associations between variables, multivariate logistic regression analysis was performed. The diagnostic performance of pleural fluid qCRP levels was evaluated using a receiver operating characteristic (ROC) curve.\n",
      "RESULTS: Forty-four (54.3%) patients were diagnosed with TPE and 34 (42.0%) with MPE. The qCRP levels in the pleural fluid were significantly greater in the TPE group than in the MPE group (55.5 ± 45.9 mg/L vs. 18.6 ± 19.1 mg/L,  < 0.001). The cutoff value for pleural fluid CRP levels (≥ 24.1 mg/L) yielded a sensitivity of 65.9% and a specificity of 73.5% in predicting TPE.\n",
      "CONCLUSIONS: Pleural fluid qCRP is a simple, rapid, cost-effective diagnostic tool for differentiating tuberculous from malignant etiology in patients with lymphocyte-rich exudative pleural effusion.\n",
      "SUPPLEMENTARY INFORMATION: The online version contains supplementary material available at 10.1007/s12055-025-01978-9.\n"
     ]
    }
   ],
   "source": [
    "print(type(docs2))             \n",
    "print(len(docs2))              \n",
    "print(type(docs2[2]))          \n",
    "print(docs2[2].page_content) "
   ]
  },
  {
   "cell_type": "markdown",
   "id": "b1c60378",
   "metadata": {},
   "source": [
    "## Part 2 - Text Splitting"
   ]
  },
  {
   "cell_type": "code",
   "execution_count": 47,
   "id": "716d5634",
   "metadata": {},
   "outputs": [],
   "source": [
    "\n",
    "from langchain.text_splitter import RecursiveCharacterTextSplitter\n",
    "\n",
    "text_splitter = RecursiveCharacterTextSplitter(chunk_size=1000, chunk_overlap=200)\n",
    "docs1_chunks = text_splitter.split_documents(docs1)\n",
    "docs2_chunks = text_splitter.split_documents(docs2)"
   ]
  },
  {
   "cell_type": "markdown",
   "id": "ca7286d9",
   "metadata": {},
   "source": [
    "## Part 3 - Embedding"
   ]
  },
  {
   "cell_type": "code",
   "execution_count": 48,
   "id": "f18ead27",
   "metadata": {},
   "outputs": [
    {
     "name": "stderr",
     "output_type": "stream",
     "text": [
      "C:\\Users\\PRIYA\\AppData\\Local\\Temp\\ipykernel_10740\\1822540165.py:3: LangChainDeprecationWarning: The class `HuggingFaceEmbeddings` was deprecated in LangChain 0.2.2 and will be removed in 1.0. An updated version of the class exists in the :class:`~langchain-huggingface package and should be used instead. To use it run `pip install -U :class:`~langchain-huggingface` and import as `from :class:`~langchain_huggingface import HuggingFaceEmbeddings``.\n",
      "  embeddings = HuggingFaceEmbeddings(model_name=\"sentence-transformers/all-MiniLM-L6-v2\")\n",
      "c:\\Users\\PRIYA\\OneDrive\\Desktop\\Say Yes\\CuraoraAI-Medical Intelligence Agent\\venv\\Lib\\site-packages\\huggingface_hub\\file_download.py:143: UserWarning: `huggingface_hub` cache-system uses symlinks by default to efficiently store duplicated files but your machine does not support them in C:\\Users\\PRIYA\\.cache\\huggingface\\hub\\models--sentence-transformers--all-MiniLM-L6-v2. Caching files will still work but in a degraded version that might require more space on your disk. This warning can be disabled by setting the `HF_HUB_DISABLE_SYMLINKS_WARNING` environment variable. For more details, see https://huggingface.co/docs/huggingface_hub/how-to-cache#limitations.\n",
      "To support symlinks on Windows, you either need to activate Developer Mode or to run Python as an administrator. In order to activate developer mode, see this article: https://docs.microsoft.com/en-us/windows/apps/get-started/enable-your-device-for-development\n",
      "  warnings.warn(message)\n",
      "Xet Storage is enabled for this repo, but the 'hf_xet' package is not installed. Falling back to regular HTTP download. For better performance, install the package with: `pip install huggingface_hub[hf_xet]` or `pip install hf_xet`\n"
     ]
    }
   ],
   "source": [
    "from langchain.embeddings import HuggingFaceEmbeddings\n",
    "\n",
    "embeddings = HuggingFaceEmbeddings(model_name=\"sentence-transformers/all-MiniLM-L6-v2\")"
   ]
  },
  {
   "cell_type": "markdown",
   "id": "257788d4",
   "metadata": {},
   "source": [
    "## Part 4 - Storing the documents in the vector store"
   ]
  },
  {
   "cell_type": "code",
   "execution_count": 56,
   "id": "e0522ad2",
   "metadata": {},
   "outputs": [
    {
     "data": {
      "text/plain": [
       "['9324b6f3-4fc2-4c55-baf3-c24a9fc4369e',\n",
       " 'b1bf0f69-cac1-4ac3-bb8a-039df48aa85b',\n",
       " 'fe77d455-66dd-46e4-aa87-7c8213dbb3f9']"
      ]
     },
     "execution_count": 56,
     "metadata": {},
     "output_type": "execute_result"
    }
   ],
   "source": [
    "from langchain_community.vectorstores import FAISS\n",
    "\n",
    "vectorstore = FAISS.from_documents(docs1, embeddings)\n",
    "vectorstore.add_documents(docs2)"
   ]
  },
  {
   "cell_type": "markdown",
   "id": "b76dc483",
   "metadata": {},
   "source": [
    "## Retrieval\n",
    "Finds the most relevant document chunks based on user query similarity"
   ]
  },
  {
   "cell_type": "code",
   "execution_count": 62,
   "id": "9fac77ac",
   "metadata": {},
   "outputs": [
    {
     "name": "stdout",
     "output_type": "stream",
     "text": [
      "Number of related documents: 4\n"
     ]
    }
   ],
   "source": [
    "#creating retriever object\n",
    "retriever = vectorstore.as_retriever()\n",
    "\n",
    "#retrieve documents\n",
    "query = \"What is Tuberculosis?\"\n",
    "retrieved_docs = retriever.get_relevant_documents(query)\n",
    "print(f\"Number of related documents: {len(retrieved_docs)}\")"
   ]
  },
  {
   "cell_type": "markdown",
   "id": "2e8540d7",
   "metadata": {},
   "source": [
    "## Generation\n",
    "Uses retrieved context to generate accurate, contextual responses with an LLM."
   ]
  },
  {
   "cell_type": "code",
   "execution_count": 87,
   "id": "e5b21aed",
   "metadata": {},
   "outputs": [],
   "source": [
    "from langchain_groq import ChatGroq\n",
    "from langchain_core.prompts import ChatPromptTemplate\n",
    "from langchain_core.output_parsers import StrOutputParser\n",
    "from langchain.chains.combine_documents import create_stuff_documents_chain\n",
    "from langchain.chains import create_retrieval_chain\n",
    "\n",
    "#initialize LLM\n",
    "llm = ChatGroq(model=\"llama-3.3-70b-versatile\", temperature=0)\n",
    "\n",
    "#prompt template\n",
    "prompt = ChatPromptTemplate.from_template(\n",
    "    \"\"\"\n",
    "    You are a medical intelligence assistant. Answer the following question, based on the context provided.\n",
    "    If you don't know the answer, say that you don't know.\n",
    "    Context: {context}\n",
    "    Question: {input}\n",
    "    \"\"\"\n",
    ")\n",
    "\n",
    "#adding string output parser to the chain\n",
    "output_parser = StrOutputParser()\n",
    "\n",
    "#creating retrieval chains\n",
    "document_chain = create_stuff_documents_chain(llm, prompt) | output_parser\n",
    "retrieval_chain = create_retrieval_chain(retriever, document_chain)\n"
   ]
  },
  {
   "cell_type": "code",
   "execution_count": 88,
   "id": "877cee7e",
   "metadata": {},
   "outputs": [
    {
     "data": {
      "text/plain": [
       "\"Tuberculosis (TB) is caused by bacteria (Mycobacterium tuberculosis) that most often affect the lungs. About one-quarter of the world's population has been infected with TB, most of whom are not ill and cannot transmit TB.\""
      ]
     },
     "execution_count": 88,
     "metadata": {},
     "output_type": "execute_result"
    }
   ],
   "source": [
    "#generate response\n",
    "query = \"What is Tuberculosis?\"\n",
    "response = retrieval_chain.invoke({\"input\": query})\n",
    "response['answer']"
   ]
  },
  {
   "cell_type": "code",
   "execution_count": 91,
   "id": "b4b7edaa",
   "metadata": {},
   "outputs": [
    {
     "name": "stdout",
     "output_type": "stream",
     "text": [
      "The symptoms of Tuberculosis (TB) disease include:\n",
      "\n",
      "1. A persistent cough, sometimes with mucus or even blood.\n",
      "2. Chest pain.\n",
      "3. Weakness or fatigue.\n",
      "4. Unintentional weight loss.\n",
      "5. Fever.\n",
      "6. Night sweats.\n",
      "\n",
      "These symptoms can be mild at first and develop slowly. If you experience these signs, seeking medical attention is crucial for diagnosis and treatment of TB.\n"
     ]
    }
   ],
   "source": [
    "response2 = retrieval_chain.invoke({\"input\": \"What are the symptoms of Tuberculosis?\"})\n",
    "print(response2['answer'])"
   ]
  },
  {
   "cell_type": "code",
   "execution_count": 92,
   "id": "3e5b69f3",
   "metadata": {},
   "outputs": [
    {
     "name": "stdout",
     "output_type": "stream",
     "text": [
      "According to the World Health Organization (WHO), Tuberculosis (TB) is mostly curable with a course of 4 antimicrobials lasting 6 months, or even 4 months in some cases. Information, supervision, and patient support by a health worker or trained volunteer are key to a successful outcome. Additionally, TB preventive treatment (TPT) can be given to avoid progression from TB infection to disease in people at risk.\n"
     ]
    }
   ],
   "source": [
    "response3 = retrieval_chain.invoke({\"input\": \"What are the treatment options for Tuberculosis?\"})\n",
    "print(response3['answer'])"
   ]
  },
  {
   "cell_type": "code",
   "execution_count": 95,
   "id": "31afb3fb",
   "metadata": {},
   "outputs": [
    {
     "name": "stdout",
     "output_type": "stream",
     "text": [
      "Recent research on Tuberculosis (TB) includes several studies and findings. \n",
      "\n",
      "1. A study in Central Java, Indonesia, analyzed TB policy implementation in high-prevalence Banyumas Regency, focusing on cadres and community organizations. The study found that policies lack sufficient local budget allocation, and there is a weak motivation of TB cadres, lack of commitment among regional organizations, and persistent stigma in the community.\n",
      "\n",
      "2. The World Health Organization (WHO) reports that TB is the world's leading cause of death from a single infectious agent, with 1.25 million people dying from TB in 2023. The organization also notes that TB is largely preventable, and TB preventive treatment (TPT) can be given to avoid progression from TB infection to disease in people at risk.\n",
      "\n",
      "3. A cross-sectional study investigated the diagnostic value of quantitative C-reactive protein (qCRP) for differentiating between tuberculous pleural effusion (TPE) and malignant pleural effusion (MPE). The study found that pleural fluid qCRP is a simple, rapid, cost-effective diagnostic tool for differentiating tuberculous from malignant etiology in patients with lymphocyte-rich exudative pleural effusion.\n",
      "\n",
      "4. A case report presented a rare co-infection of mucormycosis and aspergillosis in a young female with no comorbidities and no immunosuppression, who had a history of tuberculosis. The patient was treated with antifungal therapy and surgical resection, and the postoperative follow-up period was uneventful.\n",
      "\n",
      "These studies highlight the ongoing research and efforts to improve the diagnosis, treatment, and prevention of TB, as well as the need for a multidisciplinary approach to address the complex issues surrounding this disease.\n"
     ]
    }
   ],
   "source": [
    "response4 = retrieval_chain.invoke({\"input\": \"what is the recent research on Tuberculosis?\"})\n",
    "print(response4['answer'])"
   ]
  },
  {
   "cell_type": "code",
   "execution_count": 97,
   "id": "bf933edd",
   "metadata": {},
   "outputs": [
    {
     "name": "stdout",
     "output_type": "stream",
     "text": [
      "I don't know the specific side effects of Tuberculosis treatment from the provided context. The context primarily discusses the diagnosis, symptoms, and prevention of Tuberculosis, as well as some general information about its treatment, but it does not provide a detailed list of side effects associated with TB treatment. For accurate and comprehensive information on the side effects of TB treatment, I recommend consulting a medical professional or a reliable medical resource.\n"
     ]
    }
   ],
   "source": [
    "response5 = retrieval_chain.invoke({\"input\": \"What are the side effects of Tuberculosis treatment?\"})\n",
    "print(response5['answer'])"
   ]
  },
  {
   "cell_type": "code",
   "execution_count": 98,
   "id": "0f2427a7",
   "metadata": {},
   "outputs": [
    {
     "name": "stdout",
     "output_type": "stream",
     "text": [
      "The provided context does not explicitly explain how Tuberculosis (TB) is diagnosed. However, it does mention that \"Comprehensive biochemical analyses, including qCRP levels in the pleural fluid and pathological examinations of blood, pleural fluid, and/or tissue, were performed\" in a study related to differentiating between tuberculous pleural effusion and malignant pleural effusion. \n",
      "\n",
      "For a definitive answer on how TB is diagnosed, I would need more specific information. Generally, TB diagnosis involves a combination of clinical evaluation, imaging studies (like chest X-rays), sputum tests (to detect the bacteria), and sometimes biopsies or other invasive procedures to confirm the presence of the disease. However, without more specific details in the context provided, I cannot give a precise answer on the diagnostic methods for TB.\n"
     ]
    }
   ],
   "source": [
    "response6 = retrieval_chain.invoke({\"input\": \"How is Tuberculosis diagnosed?\"})\n",
    "print(response6['answer'])"
   ]
  },
  {
   "cell_type": "code",
   "execution_count": null,
   "id": "320ef607",
   "metadata": {},
   "outputs": [
    {
     "name": "stdout",
     "output_type": "stream",
     "text": [
      "I don't know the recent developments in Tuberculosis vaccines. The provided context and text do not mention any recent developments in Tuberculosis vaccines. They discuss the current state of TB, its symptoms, treatment, and prevention, as well as some studies related to TB diagnosis, but do not provide information on recent vaccine developments.\n"
     ]
    }
   ],
   "source": [
    "response7 = retrieval_chain.invoke({\"input\": \"What is the recent development in Tuberculosis vaccines?\"})\n",
    "print(response7['answer'])\n"
   ]
  },
  {
   "cell_type": "code",
   "execution_count": null,
   "id": "85f50527",
   "metadata": {},
   "outputs": [],
   "source": [
    "#to be added - diagnosis, recent development in TB Vaccines, side effects of treatment"
   ]
  },
  {
   "cell_type": "code",
   "execution_count": null,
   "id": "a0e1626a",
   "metadata": {},
   "outputs": [],
   "source": [
    "disease = input(\"Enter the disease you want to research: \")\n",
    "custom_query = f\"What is {disease}?\"\n",
    "\n",
    "custom_data_load = PubMedLoader(\"Tuberculosis\", load_max_docs=3)\n",
    "custom_doc = custom_data_load.load()\n",
    "\n",
    "custom_doc_chunks = text_splitter.split_documents(custom_doc)\n",
    "custom_vectorstore = FAISS.from_documents(custom_doc_chunks, embeddings)\n",
    "custom_retriever = custom_vectorstore.as_retriever()\n",
    "\n",
    "\n",
    "#retrieve documents\n",
    "retrieved_docs_custom = custom_retriever.get_relevant_documents(custom_query)\n",
    "print(f\"Number of related documents: {len(retrieved_docs_custom)}\")"
   ]
  }
 ],
 "metadata": {
  "kernelspec": {
   "display_name": "venv",
   "language": "python",
   "name": "python3"
  },
  "language_info": {
   "codemirror_mode": {
    "name": "ipython",
    "version": 3
   },
   "file_extension": ".py",
   "mimetype": "text/x-python",
   "name": "python",
   "nbconvert_exporter": "python",
   "pygments_lexer": "ipython3",
   "version": "3.12.7"
  }
 },
 "nbformat": 4,
 "nbformat_minor": 5
}
